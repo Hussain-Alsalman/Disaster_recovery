{
 "cells": [
  {
   "cell_type": "markdown",
   "metadata": {},
   "source": [
    "# ML Pipeline Preparation\n",
    "Follow the instructions below to help you create your ML pipeline.\n",
    "### 1. Import libraries and load data from database.\n",
    "- Import Python libraries\n",
    "- Load dataset from database with [`read_sql_table`](https://pandas.pydata.org/pandas-docs/stable/generated/pandas.read_sql_table.html)\n",
    "- Define feature and target variables X and Y"
   ]
  },
  {
   "cell_type": "code",
   "execution_count": 1,
   "metadata": {},
   "outputs": [
    {
     "name": "stdout",
     "output_type": "stream",
     "text": [
      "[nltk_data] Downloading package punkt to /root/nltk_data...\n",
      "[nltk_data]   Unzipping tokenizers/punkt.zip.\n",
      "[nltk_data] Downloading package stopwords to /root/nltk_data...\n",
      "[nltk_data]   Unzipping corpora/stopwords.zip.\n"
     ]
    }
   ],
   "source": [
    "# import libraries\n",
    "from sqlalchemy import create_engine \n",
    "import numpy as np\n",
    "import pandas as pd\n",
    "\n",
    "# To use regex\n",
    "# Importing re\n",
    "import re\n",
    "\n",
    "# To Process Strings \n",
    "#import nltk\n",
    "import nltk\n",
    "nltk.download('punkt')\n",
    "nltk.download('stopwords')\n",
    "\n",
    "from nltk.tokenize import word_tokenize\n",
    "from nltk.corpus import stopwords\n",
    "from nltk.stem.snowball import SnowballStemmer\n",
    "\n",
    "from sklearn.pipeline import Pipeline\n",
    "from sklearn.metrics import confusion_matrix, classification_report\n",
    "from sklearn.model_selection import train_test_split, GridSearchCV\n",
    "from sklearn.ensemble import RandomForestClassifier\n",
    "from sklearn.feature_extraction.text import CountVectorizer, TfidfTransformer\n",
    "from sklearn.multioutput import MultiOutputClassifier\n"
   ]
  },
  {
   "cell_type": "code",
   "execution_count": 2,
   "metadata": {},
   "outputs": [],
   "source": [
    "# load data from database\n",
    "engine = create_engine('sqlite:///DB_messeges.db')\n",
    "df = pd.read_sql_table(\"T_messeges\", engine)\n",
    "X = df.iloc[:,0]\n",
    "Y = df.iloc[:,3:]"
   ]
  },
  {
   "cell_type": "markdown",
   "metadata": {},
   "source": [
    "### 2. Write a tokenization function to process your text data"
   ]
  },
  {
   "cell_type": "code",
   "execution_count": 3,
   "metadata": {},
   "outputs": [],
   "source": [
    "def tokenize(text):\n",
    "    \n",
    "    \"\"\"This function normalize the string, remove punctuations, and then create a list of tokens. \n",
    "    Args:\n",
    "        text: a string \n",
    "    Returns:\n",
    "        processed_list : a processed list of strings (normalized, punctuations free, and tokenized)\n",
    "    \"\"\"\n",
    "    \n",
    "    # Convert string to lowercase\n",
    "    text = text.lower()\n",
    "    \n",
    "    # Remove punctuations\n",
    "    text = re.sub(r\"[^a-zA-Z0-9]\", \" \", text)\n",
    "    \n",
    "    # Tokenize words\n",
    "    tokenized_words = word_tokenize(text)\n",
    "    \n",
    "    stemer = SnowballStemmer(\"english\")\n",
    "    processed_list = [stemer.stem(token) for token in tokenized_words if token not in stopwords.words(\"english\")]\n",
    "    \n",
    "    return processed_list    "
   ]
  },
  {
   "cell_type": "code",
   "execution_count": null,
   "metadata": {},
   "outputs": [],
   "source": []
  },
  {
   "cell_type": "markdown",
   "metadata": {},
   "source": [
    "### 3. Build a machine learning pipeline\n",
    "This machine pipeline should take in the `message` column as input and output classification results on the other 36 categories in the dataset. You may find the [MultiOutputClassifier](http://scikit-learn.org/stable/modules/generated/sklearn.multioutput.MultiOutputClassifier.html) helpful for predicting multiple target variables."
   ]
  },
  {
   "cell_type": "code",
   "execution_count": 4,
   "metadata": {},
   "outputs": [],
   "source": [
    "pipeline = Pipeline([\n",
    "    ('vect', CountVectorizer(tokenizer = tokenize)),\n",
    "    ('tfidf', TfidfTransformer()),\n",
    "    ('clf', MultiOutputClassifier(RandomForestClassifier()))\n",
    "])"
   ]
  },
  {
   "cell_type": "markdown",
   "metadata": {},
   "source": [
    "### 4. Train pipeline\n",
    "- Split data into train and test sets\n",
    "- Train pipeline"
   ]
  },
  {
   "cell_type": "code",
   "execution_count": 5,
   "metadata": {},
   "outputs": [
    {
     "data": {
      "text/plain": [
       "Pipeline(memory=None,\n",
       "     steps=[('vect', CountVectorizer(analyzer='word', binary=False, decode_error='strict',\n",
       "        dtype=<class 'numpy.int64'>, encoding='utf-8', input='content',\n",
       "        lowercase=True, max_df=1.0, max_features=None, min_df=1,\n",
       "        ngram_range=(1, 1), preprocessor=None, stop_words=None,\n",
       "        strip...oob_score=False, random_state=None, verbose=0,\n",
       "            warm_start=False),\n",
       "           n_jobs=1))])"
      ]
     },
     "execution_count": 5,
     "metadata": {},
     "output_type": "execute_result"
    }
   ],
   "source": [
    "X_train, X_test, Y_train, Y_test = train_test_split(X, Y, random_state = 12)\n",
    "pipeline.fit(X_train, Y_train)"
   ]
  },
  {
   "cell_type": "markdown",
   "metadata": {},
   "source": [
    "### 5. Test your model\n",
    "Report the f1 score, precision and recall for each output category of the dataset. You can do this by iterating through the columns and calling sklearn's `classification_report` on each."
   ]
  },
  {
   "cell_type": "code",
   "execution_count": 6,
   "metadata": {},
   "outputs": [],
   "source": [
    "pred_y =pipeline.predict(X= X_test)"
   ]
  },
  {
   "cell_type": "code",
   "execution_count": null,
   "metadata": {},
   "outputs": [],
   "source": []
  },
  {
   "cell_type": "code",
   "execution_count": 7,
   "metadata": {},
   "outputs": [
    {
     "name": "stdout",
     "output_type": "stream",
     "text": [
      "related              precision    recall  f1-score   support\n",
      "\n",
      "          0       0.62      0.49      0.55      1516\n",
      "          1       0.86      0.91      0.88      4991\n",
      "\n",
      "avg / total       0.80      0.81      0.80      6507\n",
      "\n",
      "request              precision    recall  f1-score   support\n",
      "\n",
      "          0       0.89      0.98      0.93      5410\n",
      "          1       0.79      0.42      0.55      1097\n",
      "\n",
      "avg / total       0.87      0.88      0.87      6507\n",
      "\n",
      "offer              precision    recall  f1-score   support\n",
      "\n",
      "          0       1.00      1.00      1.00      6479\n",
      "          1       0.00      0.00      0.00        28\n",
      "\n",
      "avg / total       0.99      1.00      0.99      6507\n",
      "\n",
      "aid_related              precision    recall  f1-score   support\n",
      "\n",
      "          0       0.76      0.85      0.80      3867\n",
      "          1       0.74      0.61      0.67      2640\n",
      "\n",
      "avg / total       0.75      0.75      0.75      6507\n",
      "\n",
      "medical_help              precision    recall  f1-score   support\n",
      "\n",
      "          0       0.93      1.00      0.96      6009\n",
      "          1       0.57      0.08      0.13       498\n",
      "\n",
      "avg / total       0.90      0.92      0.90      6507\n",
      "\n",
      "medical_products              precision    recall  f1-score   support\n",
      "\n",
      "          0       0.96      1.00      0.98      6195\n",
      "          1       0.93      0.08      0.15       312\n",
      "\n",
      "avg / total       0.95      0.96      0.94      6507\n",
      "\n",
      "search_and_rescue              precision    recall  f1-score   support\n",
      "\n",
      "          0       0.97      1.00      0.99      6318\n",
      "          1       0.58      0.04      0.07       189\n",
      "\n",
      "avg / total       0.96      0.97      0.96      6507\n",
      "\n",
      "security              precision    recall  f1-score   support\n",
      "\n",
      "          0       0.98      1.00      0.99      6386\n",
      "          1       0.25      0.01      0.02       121\n",
      "\n",
      "avg / total       0.97      0.98      0.97      6507\n",
      "\n",
      "military              precision    recall  f1-score   support\n",
      "\n",
      "          0       0.97      1.00      0.98      6290\n",
      "          1       0.39      0.04      0.08       217\n",
      "\n",
      "avg / total       0.95      0.97      0.95      6507\n",
      "\n",
      "child_alone              precision    recall  f1-score   support\n",
      "\n",
      "          0       1.00      1.00      1.00      6507\n",
      "\n",
      "avg / total       1.00      1.00      1.00      6507\n",
      "\n",
      "water              precision    recall  f1-score   support\n",
      "\n",
      "          0       0.96      1.00      0.98      6108\n",
      "          1       0.82      0.34      0.48       399\n",
      "\n",
      "avg / total       0.95      0.95      0.95      6507\n",
      "\n",
      "food              precision    recall  f1-score   support\n",
      "\n",
      "          0       0.94      0.99      0.96      5792\n",
      "          1       0.82      0.52      0.64       715\n",
      "\n",
      "avg / total       0.93      0.93      0.93      6507\n",
      "\n",
      "shelter              precision    recall  f1-score   support\n",
      "\n",
      "          0       0.94      0.99      0.96      5931\n",
      "          1       0.81      0.29      0.43       576\n",
      "\n",
      "avg / total       0.92      0.93      0.92      6507\n",
      "\n",
      "clothing              precision    recall  f1-score   support\n",
      "\n",
      "          0       0.98      1.00      0.99      6402\n",
      "          1       0.80      0.04      0.07       105\n",
      "\n",
      "avg / total       0.98      0.98      0.98      6507\n",
      "\n",
      "money              precision    recall  f1-score   support\n",
      "\n",
      "          0       0.98      1.00      0.99      6374\n",
      "          1       0.67      0.05      0.08       133\n",
      "\n",
      "avg / total       0.97      0.98      0.97      6507\n",
      "\n",
      "missing_people              precision    recall  f1-score   support\n",
      "\n",
      "          0       0.99      1.00      0.99      6424\n",
      "          1       0.67      0.02      0.05        83\n",
      "\n",
      "avg / total       0.98      0.99      0.98      6507\n",
      "\n",
      "refugees              precision    recall  f1-score   support\n",
      "\n",
      "          0       0.97      1.00      0.98      6298\n",
      "          1       0.47      0.03      0.06       209\n",
      "\n",
      "avg / total       0.95      0.97      0.95      6507\n",
      "\n",
      "death              precision    recall  f1-score   support\n",
      "\n",
      "          0       0.96      1.00      0.98      6211\n",
      "          1       0.78      0.19      0.30       296\n",
      "\n",
      "avg / total       0.95      0.96      0.95      6507\n",
      "\n",
      "other_aid              precision    recall  f1-score   support\n",
      "\n",
      "          0       0.88      0.99      0.93      5678\n",
      "          1       0.54      0.05      0.09       829\n",
      "\n",
      "avg / total       0.83      0.87      0.83      6507\n",
      "\n",
      "infrastructure_related              precision    recall  f1-score   support\n",
      "\n",
      "          0       0.93      1.00      0.96      6069\n",
      "          1       0.00      0.00      0.00       438\n",
      "\n",
      "avg / total       0.87      0.93      0.90      6507\n",
      "\n",
      "transport              precision    recall  f1-score   support\n",
      "\n",
      "          0       0.96      1.00      0.98      6211\n",
      "          1       0.62      0.04      0.08       296\n",
      "\n",
      "avg / total       0.94      0.96      0.94      6507\n",
      "\n",
      "buildings              precision    recall  f1-score   support\n",
      "\n",
      "          0       0.95      1.00      0.97      6150\n",
      "          1       0.74      0.10      0.18       357\n",
      "\n",
      "avg / total       0.94      0.95      0.93      6507\n",
      "\n",
      "electricity              precision    recall  f1-score   support\n",
      "\n",
      "          0       0.98      1.00      0.99      6365\n",
      "          1       0.67      0.06      0.10       142\n",
      "\n",
      "avg / total       0.97      0.98      0.97      6507\n",
      "\n",
      "tools              precision    recall  f1-score   support\n",
      "\n",
      "          0       0.99      1.00      1.00      6473\n",
      "          1       0.00      0.00      0.00        34\n",
      "\n",
      "avg / total       0.99      0.99      0.99      6507\n",
      "\n",
      "hospitals              precision    recall  f1-score   support\n",
      "\n",
      "          0       0.99      1.00      0.99      6435\n",
      "          1       0.00      0.00      0.00        72\n",
      "\n",
      "avg / total       0.98      0.99      0.98      6507\n",
      "\n",
      "shops              precision    recall  f1-score   support\n",
      "\n",
      "          0       1.00      1.00      1.00      6482\n",
      "          1       0.00      0.00      0.00        25\n",
      "\n",
      "avg / total       0.99      1.00      0.99      6507\n",
      "\n",
      "aid_centers              precision    recall  f1-score   support\n",
      "\n",
      "          0       0.99      1.00      0.99      6426\n",
      "          1       0.00      0.00      0.00        81\n",
      "\n",
      "avg / total       0.98      0.99      0.98      6507\n",
      "\n",
      "other_infrastructure              precision    recall  f1-score   support\n",
      "\n",
      "          0       0.95      1.00      0.98      6213\n",
      "          1       0.00      0.00      0.00       294\n",
      "\n",
      "avg / total       0.91      0.95      0.93      6507\n",
      "\n",
      "weather_related              precision    recall  f1-score   support\n",
      "\n",
      "          0       0.87      0.95      0.91      4672\n",
      "          1       0.82      0.63      0.71      1835\n",
      "\n",
      "avg / total       0.85      0.86      0.85      6507\n",
      "\n",
      "floods              precision    recall  f1-score   support\n",
      "\n",
      "          0       0.95      0.99      0.97      5986\n",
      "          1       0.87      0.44      0.58       521\n",
      "\n",
      "avg / total       0.95      0.95      0.94      6507\n",
      "\n",
      "storm              precision    recall  f1-score   support\n",
      "\n",
      "          0       0.94      0.99      0.96      5887\n",
      "          1       0.77      0.43      0.55       620\n",
      "\n",
      "avg / total       0.93      0.93      0.92      6507\n",
      "\n",
      "fire              precision    recall  f1-score   support\n",
      "\n",
      "          0       0.99      1.00      0.99      6434\n",
      "          1       1.00      0.05      0.10        73\n",
      "\n",
      "avg / total       0.99      0.99      0.98      6507\n",
      "\n",
      "earthquake              precision    recall  f1-score   support\n",
      "\n",
      "          0       0.97      0.99      0.98      5891\n",
      "          1       0.89      0.69      0.77       616\n",
      "\n",
      "avg / total       0.96      0.96      0.96      6507\n",
      "\n",
      "cold              precision    recall  f1-score   support\n",
      "\n",
      "          0       0.98      1.00      0.99      6368\n",
      "          1       0.53      0.06      0.10       139\n",
      "\n",
      "avg / total       0.97      0.98      0.97      6507\n",
      "\n",
      "other_weather              precision    recall  f1-score   support\n",
      "\n",
      "          0       0.95      1.00      0.97      6169\n",
      "          1       0.58      0.07      0.12       338\n",
      "\n",
      "avg / total       0.93      0.95      0.93      6507\n",
      "\n"
     ]
    },
    {
     "name": "stderr",
     "output_type": "stream",
     "text": [
      "/opt/conda/lib/python3.6/site-packages/sklearn/metrics/classification.py:1135: UndefinedMetricWarning: Precision and F-score are ill-defined and being set to 0.0 in labels with no predicted samples.\n",
      "  'precision', 'predicted', average, warn_for)\n"
     ]
    }
   ],
   "source": [
    "for i in np.arange(0,35):\n",
    "    print(Y_test.columns[i],classification_report(y_pred= pred_y[:,i], y_true= Y_test.iloc[:,i]))"
   ]
  },
  {
   "cell_type": "markdown",
   "metadata": {},
   "source": [
    "### 6. Improve your model\n",
    "Use grid search to find better parameters. "
   ]
  },
  {
   "cell_type": "code",
   "execution_count": 8,
   "metadata": {},
   "outputs": [],
   "source": [
    "parameters = {'vect__min_df': [1, 3],\n",
    "              'tfidf__use_idf':[True, False],\n",
    "              'clf__estimator__n_estimators':[6,10], \n",
    "              'clf__estimator__min_samples_split':[4,8]}\n",
    "\n",
    "cv = GridSearchCV(pipeline, param_grid=parameters)"
   ]
  },
  {
   "cell_type": "code",
   "execution_count": null,
   "metadata": {},
   "outputs": [],
   "source": [
    "cv.fit(X_train, Y_train)"
   ]
  },
  {
   "cell_type": "markdown",
   "metadata": {},
   "source": [
    "### 7. Test your model\n",
    "Show the accuracy, precision, and recall of the tuned model.  \n",
    "\n",
    "Since this project focuses on code quality, process, and  pipelines, there is no minimum performance metric needed to pass. However, make sure to fine tune your models for accuracy, precision and recall to make your project stand out - especially for your portfolio!"
   ]
  },
  {
   "cell_type": "code",
   "execution_count": null,
   "metadata": {},
   "outputs": [],
   "source": [
    "cv_pred_y =pipeline.predict(X= X_test)"
   ]
  },
  {
   "cell_type": "markdown",
   "metadata": {},
   "source": [
    "### 8. Try improving your model further. Here are a few ideas:\n",
    "* try other machine learning algorithms\n",
    "* add other features besides the TF-IDF"
   ]
  },
  {
   "cell_type": "code",
   "execution_count": null,
   "metadata": {},
   "outputs": [],
   "source": [
    "for i in np.arange(0,35):\n",
    "    print(Y_test.columns[i],classification_report(y_pred= pred_y[:,i], y_true= Y_test.iloc[:,i]))"
   ]
  },
  {
   "cell_type": "markdown",
   "metadata": {},
   "source": [
    "### 9. Export your model as a pickle file"
   ]
  },
  {
   "cell_type": "code",
   "execution_count": null,
   "metadata": {},
   "outputs": [],
   "source": []
  },
  {
   "cell_type": "markdown",
   "metadata": {},
   "source": [
    "### 10. Use this notebook to complete `train.py`\n",
    "Use the template file attached in the Resources folder to write a script that runs the steps above to create a database and export a model based on a new dataset specified by the user."
   ]
  },
  {
   "cell_type": "code",
   "execution_count": null,
   "metadata": {},
   "outputs": [],
   "source": []
  }
 ],
 "metadata": {
  "kernelspec": {
   "display_name": "Python 3",
   "language": "python",
   "name": "python3"
  },
  "language_info": {
   "codemirror_mode": {
    "name": "ipython",
    "version": 3
   },
   "file_extension": ".py",
   "mimetype": "text/x-python",
   "name": "python",
   "nbconvert_exporter": "python",
   "pygments_lexer": "ipython3",
   "version": "3.6.3"
  }
 },
 "nbformat": 4,
 "nbformat_minor": 2
}
